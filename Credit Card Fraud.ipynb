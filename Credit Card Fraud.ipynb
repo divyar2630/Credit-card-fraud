{
 "cells": [
  {
   "cell_type": "markdown",
   "metadata": {},
   "source": [
    "We will using a credit card fraud data set to detect fraud action. The original data set comes from Kaggle: https://www.kaggle.com/mlg-ulb/creditcardfraud. It contains roughly 280K observations originally. I have simplified down to roughly 3000 observations. The aim of this project is to compare a few ML models and compare."
   ]
  },
  {
   "cell_type": "code",
   "execution_count": 1,
   "metadata": {},
   "outputs": [],
   "source": [
    "# General imports\n",
    "import numpy as np\n",
    "import pandas as pd\n",
    "import numpy as np\n",
    "import matplotlib.pyplot as plt\n",
    "from sklearn.model_selection import train_test_split\n",
    "from sklearn.preprocessing import StandardScaler\n",
    "from sklearn.model_selection import train_test_split, GridSearchCV\n",
    "from sklearn.pipeline import Pipeline\n",
    "%matplotlib inline\n",
    "from sklearn.linear_model import LogisticRegression\n",
    "from sklearn.metrics import f1_score\n",
    "import sklearn.metrics\n",
    "from sklearn.tree import DecisionTreeClassifier\n",
    "from sklearn.ensemble import RandomForestClassifier\n",
    "from sklearn.ensemble import GradientBoostingClassifier\n",
    "from sklearn.metrics import roc_curve, roc_auc_score\n",
    "from sklearn.metrics import confusion_matrix"
   ]
  },
  {
   "cell_type": "code",
   "execution_count": 2,
   "metadata": {},
   "outputs": [
    {
     "data": {
      "text/html": [
       "<div>\n",
       "<style scoped>\n",
       "    .dataframe tbody tr th:only-of-type {\n",
       "        vertical-align: middle;\n",
       "    }\n",
       "\n",
       "    .dataframe tbody tr th {\n",
       "        vertical-align: top;\n",
       "    }\n",
       "\n",
       "    .dataframe thead th {\n",
       "        text-align: right;\n",
       "    }\n",
       "</style>\n",
       "<table border=\"1\" class=\"dataframe\">\n",
       "  <thead>\n",
       "    <tr style=\"text-align: right;\">\n",
       "      <th></th>\n",
       "      <th>Time</th>\n",
       "      <th>V1</th>\n",
       "      <th>V2</th>\n",
       "      <th>V3</th>\n",
       "      <th>V4</th>\n",
       "      <th>V5</th>\n",
       "      <th>V6</th>\n",
       "      <th>V7</th>\n",
       "      <th>V8</th>\n",
       "      <th>V9</th>\n",
       "      <th>...</th>\n",
       "      <th>V21</th>\n",
       "      <th>V22</th>\n",
       "      <th>V23</th>\n",
       "      <th>V24</th>\n",
       "      <th>V25</th>\n",
       "      <th>V26</th>\n",
       "      <th>V27</th>\n",
       "      <th>V28</th>\n",
       "      <th>Amount</th>\n",
       "      <th>Class</th>\n",
       "    </tr>\n",
       "  </thead>\n",
       "  <tbody>\n",
       "    <tr>\n",
       "      <th>0</th>\n",
       "      <td>149938</td>\n",
       "      <td>-0.445664</td>\n",
       "      <td>0.565437</td>\n",
       "      <td>0.733374</td>\n",
       "      <td>-0.999763</td>\n",
       "      <td>1.609578</td>\n",
       "      <td>1.187041</td>\n",
       "      <td>1.452018</td>\n",
       "      <td>-0.198439</td>\n",
       "      <td>-0.048416</td>\n",
       "      <td>...</td>\n",
       "      <td>-0.195318</td>\n",
       "      <td>-0.107752</td>\n",
       "      <td>-0.100277</td>\n",
       "      <td>-0.329253</td>\n",
       "      <td>-0.375723</td>\n",
       "      <td>0.275200</td>\n",
       "      <td>-0.349132</td>\n",
       "      <td>-0.338845</td>\n",
       "      <td>50.19</td>\n",
       "      <td>0</td>\n",
       "    </tr>\n",
       "    <tr>\n",
       "      <th>1</th>\n",
       "      <td>148077</td>\n",
       "      <td>0.111788</td>\n",
       "      <td>1.124121</td>\n",
       "      <td>-0.191350</td>\n",
       "      <td>-0.443245</td>\n",
       "      <td>0.777409</td>\n",
       "      <td>-1.071823</td>\n",
       "      <td>1.068130</td>\n",
       "      <td>-0.203815</td>\n",
       "      <td>-0.246504</td>\n",
       "      <td>...</td>\n",
       "      <td>-0.297632</td>\n",
       "      <td>-0.660398</td>\n",
       "      <td>0.144101</td>\n",
       "      <td>1.072859</td>\n",
       "      <td>-0.444134</td>\n",
       "      <td>0.079985</td>\n",
       "      <td>0.229395</td>\n",
       "      <td>0.091531</td>\n",
       "      <td>5.37</td>\n",
       "      <td>0</td>\n",
       "    </tr>\n",
       "    <tr>\n",
       "      <th>2</th>\n",
       "      <td>121831</td>\n",
       "      <td>2.087566</td>\n",
       "      <td>-1.134330</td>\n",
       "      <td>-0.593377</td>\n",
       "      <td>-1.058366</td>\n",
       "      <td>-1.104703</td>\n",
       "      <td>-0.413032</td>\n",
       "      <td>-1.112383</td>\n",
       "      <td>0.110687</td>\n",
       "      <td>-0.074055</td>\n",
       "      <td>...</td>\n",
       "      <td>0.053867</td>\n",
       "      <td>-0.082683</td>\n",
       "      <td>0.328018</td>\n",
       "      <td>-0.543838</td>\n",
       "      <td>-0.593097</td>\n",
       "      <td>-0.466010</td>\n",
       "      <td>-0.010324</td>\n",
       "      <td>-0.052221</td>\n",
       "      <td>40.00</td>\n",
       "      <td>0</td>\n",
       "    </tr>\n",
       "    <tr>\n",
       "      <th>3</th>\n",
       "      <td>75683</td>\n",
       "      <td>-0.488630</td>\n",
       "      <td>1.039124</td>\n",
       "      <td>1.413263</td>\n",
       "      <td>0.110440</td>\n",
       "      <td>0.205570</td>\n",
       "      <td>-0.721798</td>\n",
       "      <td>0.677329</td>\n",
       "      <td>-0.007125</td>\n",
       "      <td>-0.568263</td>\n",
       "      <td>...</td>\n",
       "      <td>-0.189721</td>\n",
       "      <td>-0.439538</td>\n",
       "      <td>0.084214</td>\n",
       "      <td>0.374691</td>\n",
       "      <td>-0.235030</td>\n",
       "      <td>0.077754</td>\n",
       "      <td>0.262267</td>\n",
       "      <td>0.102935</td>\n",
       "      <td>12.99</td>\n",
       "      <td>0</td>\n",
       "    </tr>\n",
       "    <tr>\n",
       "      <th>4</th>\n",
       "      <td>46080</td>\n",
       "      <td>-1.018049</td>\n",
       "      <td>0.727356</td>\n",
       "      <td>1.723606</td>\n",
       "      <td>-1.409580</td>\n",
       "      <td>0.255078</td>\n",
       "      <td>-0.648925</td>\n",
       "      <td>0.807408</td>\n",
       "      <td>0.190881</td>\n",
       "      <td>-0.605563</td>\n",
       "      <td>...</td>\n",
       "      <td>-0.425400</td>\n",
       "      <td>-1.383973</td>\n",
       "      <td>0.085528</td>\n",
       "      <td>0.175845</td>\n",
       "      <td>-0.104718</td>\n",
       "      <td>0.462432</td>\n",
       "      <td>0.159748</td>\n",
       "      <td>0.099125</td>\n",
       "      <td>19.99</td>\n",
       "      <td>0</td>\n",
       "    </tr>\n",
       "  </tbody>\n",
       "</table>\n",
       "<p>5 rows × 31 columns</p>\n",
       "</div>"
      ],
      "text/plain": [
       "     Time        V1        V2        V3        V4        V5        V6  \\\n",
       "0  149938 -0.445664  0.565437  0.733374 -0.999763  1.609578  1.187041   \n",
       "1  148077  0.111788  1.124121 -0.191350 -0.443245  0.777409 -1.071823   \n",
       "2  121831  2.087566 -1.134330 -0.593377 -1.058366 -1.104703 -0.413032   \n",
       "3   75683 -0.488630  1.039124  1.413263  0.110440  0.205570 -0.721798   \n",
       "4   46080 -1.018049  0.727356  1.723606 -1.409580  0.255078 -0.648925   \n",
       "\n",
       "         V7        V8        V9  ...       V21       V22       V23       V24  \\\n",
       "0  1.452018 -0.198439 -0.048416  ... -0.195318 -0.107752 -0.100277 -0.329253   \n",
       "1  1.068130 -0.203815 -0.246504  ... -0.297632 -0.660398  0.144101  1.072859   \n",
       "2 -1.112383  0.110687 -0.074055  ...  0.053867 -0.082683  0.328018 -0.543838   \n",
       "3  0.677329 -0.007125 -0.568263  ... -0.189721 -0.439538  0.084214  0.374691   \n",
       "4  0.807408  0.190881 -0.605563  ... -0.425400 -1.383973  0.085528  0.175845   \n",
       "\n",
       "        V25       V26       V27       V28  Amount  Class  \n",
       "0 -0.375723  0.275200 -0.349132 -0.338845   50.19      0  \n",
       "1 -0.444134  0.079985  0.229395  0.091531    5.37      0  \n",
       "2 -0.593097 -0.466010 -0.010324 -0.052221   40.00      0  \n",
       "3 -0.235030  0.077754  0.262267  0.102935   12.99      0  \n",
       "4 -0.104718  0.462432  0.159748  0.099125   19.99      0  \n",
       "\n",
       "[5 rows x 31 columns]"
      ]
     },
     "execution_count": 2,
     "metadata": {},
     "output_type": "execute_result"
    }
   ],
   "source": [
    "# Load the data set\n",
    "fraud = pd.read_csv('fraud.csv')\n",
    "fraud.head()"
   ]
  },
  {
   "cell_type": "markdown",
   "metadata": {},
   "source": [
    "The data contains 31 columns. The first 30 columns are predictors and the last column (Class) is the response. There are no variable names to these columns, since they are PCA transformed. We will get rid of the Time column, and look at the distribution of the Class variable."
   ]
  },
  {
   "cell_type": "code",
   "execution_count": 3,
   "metadata": {},
   "outputs": [
    {
     "data": {
      "text/plain": [
       "0    2500\n",
       "1     492\n",
       "Name: Class, dtype: int64"
      ]
     },
     "execution_count": 3,
     "metadata": {},
     "output_type": "execute_result"
    }
   ],
   "source": [
    "# Remove the Time column\n",
    "del fraud['Time']\n",
    "# Look at distribution of Class variable\n",
    "fraud['Class'].value_counts()"
   ]
  },
  {
   "cell_type": "markdown",
   "metadata": {},
   "source": [
    "The two classes are quite unbalanced, which means we need to be careful with the evaluation metrics to use. \n",
    "\n",
    "For this project, we will fit the following 5 classification models:\n",
    "- Logistic Regression\n",
    "- Decision Tree\n",
    "- Bagged Trees\n",
    "- Random Forest\n",
    "- Boosted Trees\n",
    "\n",
    "The goal is to compare these models, and see which gives the best performance. To be fair, we will perform the evaluation using a same holdout set."
   ]
  },
  {
   "cell_type": "code",
   "execution_count": 4,
   "metadata": {},
   "outputs": [],
   "source": [
    "# Separate predictors and response\n",
    "X = fraud.drop('Class', axis = 1)\n",
    "y = fraud.Class\n",
    "\n",
    "# Split your data into training and holdout set. \n",
    "# Use random state 1 and test size of 30%.\n",
    "X_train, X_holdout, y_train, y_holdout = train_test_split(X, y, test_size = 0.3, random_state = 1)\n"
   ]
  },
  {
   "cell_type": "markdown",
   "metadata": {},
   "source": [
    "Now, let's train each of the 5 models using the training set. \n",
    "\n",
    "Since the response class is quite imbalanced, accuracy will be a bad metric to use here.We will use the F1-score when selecting the best hyperparameter for all models (https://en.wikipedia.org/wiki/F1_score). "
   ]
  },
  {
   "cell_type": "code",
   "execution_count": 5,
   "metadata": {},
   "outputs": [],
   "source": [
    "CV=5 #cv\n",
    "score='f1' #scoring\n",
    "rs=1 #random_state\n",
    "MSL=5 #Minimum sample leaves- minimum number of observations at each terminal node"
   ]
  },
  {
   "cell_type": "code",
   "execution_count": 6,
   "metadata": {},
   "outputs": [
    {
     "name": "stderr",
     "output_type": "stream",
     "text": [
      "C:\\Users\\dira9\\Anaconda3\\lib\\site-packages\\sklearn\\linear_model\\_logistic.py:1505: UserWarning: Setting penalty='none' will ignore the C and l1_ratio parameters\n",
      "  \"Setting penalty='none' will ignore the C and l1_ratio \"\n"
     ]
    },
    {
     "data": {
      "text/plain": [
       "GridSearchCV(cv=5, error_score=nan,\n",
       "             estimator=Pipeline(memory=None,\n",
       "                                steps=[('scale',\n",
       "                                        StandardScaler(copy=True,\n",
       "                                                       with_mean=True,\n",
       "                                                       with_std=True)),\n",
       "                                       ('clf',\n",
       "                                        LogisticRegression(C=1.0,\n",
       "                                                           class_weight=None,\n",
       "                                                           dual=False,\n",
       "                                                           fit_intercept=True,\n",
       "                                                           intercept_scaling=1,\n",
       "                                                           l1_ratio=None,\n",
       "                                                           max_iter=10000,\n",
       "                                                           multi_class='auto',\n",
       "                                                           n_jobs=None,\n",
       "                                                           penalty='none',\n",
       "                                                           random_state=1,\n",
       "                                                           solver='newton-cg',\n",
       "                                                           tol=0.0001,\n",
       "                                                           verbose=0,\n",
       "                                                           warm_start=False))],\n",
       "                                verbose=False),\n",
       "             iid='deprecated', n_jobs=-1,\n",
       "             param_grid={'clf__C': array([1.e-10, 1.e-09, 1.e-08, 1.e-07, 1.e-06, 1.e-05, 1.e-04, 1.e-03,\n",
       "       1.e-02, 1.e-01, 1.e+00, 1.e+01, 1.e+02, 1.e+03, 1.e+04, 1.e+05,\n",
       "       1.e+06, 1.e+07, 1.e+08, 1.e+09, 1.e+10])},\n",
       "             pre_dispatch='2*n_jobs', refit=True, return_train_score=False,\n",
       "             scoring='f1', verbose=0)"
      ]
     },
     "execution_count": 6,
     "metadata": {},
     "output_type": "execute_result"
    }
   ],
   "source": [
    "# Train and tune Logistic Regression\n",
    "logistic_regression=Pipeline([('scale',StandardScaler()),('clf',LogisticRegression(solver = 'newton-cg', penalty = 'none',max_iter=10000,random_state = rs))])\n",
    "paras_1={'clf__C':np.logspace(-10, 10, 21)}\n",
    "LR = GridSearchCV(estimator = logistic_regression, param_grid = paras_1, cv = CV, scoring = score, n_jobs = -1) \n",
    "LR.fit(X_train, y_train)"
   ]
  },
  {
   "cell_type": "code",
   "execution_count": 7,
   "metadata": {},
   "outputs": [
    {
     "data": {
      "text/plain": [
       "GridSearchCV(cv=5, error_score=nan,\n",
       "             estimator=DecisionTreeClassifier(ccp_alpha=0.0, class_weight=None,\n",
       "                                              criterion='gini', max_depth=None,\n",
       "                                              max_features=None,\n",
       "                                              max_leaf_nodes=None,\n",
       "                                              min_impurity_decrease=0.0,\n",
       "                                              min_impurity_split=None,\n",
       "                                              min_samples_leaf=5,\n",
       "                                              min_samples_split=2,\n",
       "                                              min_weight_fraction_leaf=0.0,\n",
       "                                              presort='deprecated',\n",
       "                                              random_state=1, splitter='best'),\n",
       "             iid='deprecated', n_jobs=-1,\n",
       "             param_grid={'max_depth': range(1, 50),\n",
       "                         'max_leaf_nodes': range(2, 50)},\n",
       "             pre_dispatch='2*n_jobs', refit=True, return_train_score=False,\n",
       "             scoring='f1', verbose=0)"
      ]
     },
     "execution_count": 7,
     "metadata": {},
     "output_type": "execute_result"
    }
   ],
   "source": [
    "# Train and tune  Decision Tree\n",
    "decision_tree =  DecisionTreeClassifier(random_state=rs,min_samples_leaf = MSL)\n",
    "paras_2 = {'max_leaf_nodes': range(2,50),'max_depth': range(1,50)}\n",
    "DT = GridSearchCV(estimator = decision_tree,param_grid =  paras_2, n_jobs = -1, cv = CV,scoring=score)\n",
    "DT.fit(X_train, y_train)"
   ]
  },
  {
   "cell_type": "code",
   "execution_count": 8,
   "metadata": {},
   "outputs": [
    {
     "data": {
      "text/plain": [
       "GridSearchCV(cv=5, error_score=nan,\n",
       "             estimator=RandomForestClassifier(bootstrap=True, ccp_alpha=0.0,\n",
       "                                              class_weight=None,\n",
       "                                              criterion='gini', max_depth=None,\n",
       "                                              max_features=None,\n",
       "                                              max_leaf_nodes=None,\n",
       "                                              max_samples=None,\n",
       "                                              min_impurity_decrease=0.0,\n",
       "                                              min_impurity_split=None,\n",
       "                                              min_samples_leaf=5,\n",
       "                                              min_samples_split=2,\n",
       "                                              min_weight_fraction_leaf=0.0,\n",
       "                                              n_estimators=100, n_jobs=None,\n",
       "                                              oob_score=False, random_state=1,\n",
       "                                              verbose=0, warm_start=False),\n",
       "             iid='deprecated', n_jobs=-1,\n",
       "             param_grid={'n_estimators': array([ 100,  200,  300,  400,  500,  600,  700,  800,  900, 1000])},\n",
       "             pre_dispatch='2*n_jobs', refit=True, return_train_score=False,\n",
       "             scoring='f1', verbose=0)"
      ]
     },
     "execution_count": 8,
     "metadata": {},
     "output_type": "execute_result"
    }
   ],
   "source": [
    "# Train and tune Bagged Tree  \n",
    "Bagged_tree=RandomForestClassifier( max_features=None,random_state = rs,min_samples_leaf = MSL)\n",
    "paras_3= {'n_estimators': np.linspace(100,1000,10, dtype = int)}\n",
    "BaT = GridSearchCV(estimator = Bagged_tree,param_grid = paras_3,cv =CV, n_jobs = -1, scoring = score) \n",
    "BaT.fit(X_train,y_train)"
   ]
  },
  {
   "cell_type": "code",
   "execution_count": 9,
   "metadata": {},
   "outputs": [
    {
     "data": {
      "text/plain": [
       "GridSearchCV(cv=5, error_score=nan,\n",
       "             estimator=RandomForestClassifier(bootstrap=True, ccp_alpha=0.0,\n",
       "                                              class_weight=None,\n",
       "                                              criterion='gini', max_depth=None,\n",
       "                                              max_features='sqrt',\n",
       "                                              max_leaf_nodes=None,\n",
       "                                              max_samples=None,\n",
       "                                              min_impurity_decrease=0.0,\n",
       "                                              min_impurity_split=None,\n",
       "                                              min_samples_leaf=5,\n",
       "                                              min_samples_split=2,\n",
       "                                              min_weight_fraction_leaf=0.0,\n",
       "                                              n_estimators=100, n_jobs=None,\n",
       "                                              oob_score=False, random_state=1,\n",
       "                                              verbose=0, warm_start=False),\n",
       "             iid='deprecated', n_jobs=-1,\n",
       "             param_grid={'n_estimators': array([ 100,  200,  300,  400,  500,  600,  700,  800,  900, 1000])},\n",
       "             pre_dispatch='2*n_jobs', refit=True, return_train_score=False,\n",
       "             scoring='f1', verbose=0)"
      ]
     },
     "execution_count": 9,
     "metadata": {},
     "output_type": "execute_result"
    }
   ],
   "source": [
    "# Train and tune Random Forest\n",
    "Random_forest=RandomForestClassifier(max_features = 'sqrt', random_state = rs, min_samples_leaf = MSL)\n",
    "paras_4 = {'n_estimators': np.linspace(100, 1000, 10, dtype = int)}\n",
    "RF = GridSearchCV(estimator = Random_forest, param_grid =paras_4, cv = CV, n_jobs = -1, scoring = score)\n",
    "RF.fit(X_train, y_train)"
   ]
  },
  {
   "cell_type": "code",
   "execution_count": 10,
   "metadata": {},
   "outputs": [
    {
     "data": {
      "text/plain": [
       "GridSearchCV(cv=5, error_score=nan,\n",
       "             estimator=GradientBoostingClassifier(ccp_alpha=0.0,\n",
       "                                                  criterion='friedman_mse',\n",
       "                                                  init=None, learning_rate=0.01,\n",
       "                                                  loss='deviance', max_depth=3,\n",
       "                                                  max_features=None,\n",
       "                                                  max_leaf_nodes=None,\n",
       "                                                  min_impurity_decrease=0.0,\n",
       "                                                  min_impurity_split=None,\n",
       "                                                  min_samples_leaf=5,\n",
       "                                                  min_samples_split=2,\n",
       "                                                  min_weight_fraction_leaf=0.0,\n",
       "                                                  n_estimators=100,\n",
       "                                                  n_iter_no_change=None,\n",
       "                                                  presort='deprecated',\n",
       "                                                  random_state=1, subsample=1.0,\n",
       "                                                  tol=0.0001,\n",
       "                                                  validation_fraction=0.1,\n",
       "                                                  verbose=0, warm_start=False),\n",
       "             iid='deprecated', n_jobs=-1,\n",
       "             param_grid={'n_estimators': array([ 100,  200,  300,  400,  500,  600,  700,  800,  900, 1000])},\n",
       "             pre_dispatch='2*n_jobs', refit=True, return_train_score=False,\n",
       "             scoring='f1', verbose=0)"
      ]
     },
     "execution_count": 10,
     "metadata": {},
     "output_type": "execute_result"
    }
   ],
   "source": [
    "# Train and tune  Boosted Trees\n",
    "Gradient_boosting=GradientBoostingClassifier(min_samples_leaf = MSL, random_state = rs, learning_rate = 0.01)\n",
    "paras_5= {'n_estimators': np.linspace(100, 1000, 10, dtype = int)}\n",
    "BoT = GridSearchCV(estimator=Gradient_boosting,param_grid = paras_5, cv = CV, n_jobs = -1, scoring = score)\n",
    "BoT.fit(X_train, y_train)"
   ]
  },
  {
   "cell_type": "markdown",
   "metadata": {},
   "source": [
    "Now that you have trained all 5 models (hopefully you have named your classifiers __clearly__). It's time to evaluate the 5 models altogether. First, perform prediction on all 5 models using the holdout set, and report the F1 score."
   ]
  },
  {
   "cell_type": "code",
   "execution_count": 11,
   "metadata": {},
   "outputs": [
    {
     "data": {
      "text/html": [
       "<div>\n",
       "<style scoped>\n",
       "    .dataframe tbody tr th:only-of-type {\n",
       "        vertical-align: middle;\n",
       "    }\n",
       "\n",
       "    .dataframe tbody tr th {\n",
       "        vertical-align: top;\n",
       "    }\n",
       "\n",
       "    .dataframe thead th {\n",
       "        text-align: right;\n",
       "    }\n",
       "</style>\n",
       "<table border=\"1\" class=\"dataframe\">\n",
       "  <thead>\n",
       "    <tr style=\"text-align: right;\">\n",
       "      <th></th>\n",
       "      <th>Classification model</th>\n",
       "      <th>F1 Scores</th>\n",
       "    </tr>\n",
       "  </thead>\n",
       "  <tbody>\n",
       "    <tr>\n",
       "      <th>0</th>\n",
       "      <td>Logistic Regression</td>\n",
       "      <td>0.893773</td>\n",
       "    </tr>\n",
       "    <tr>\n",
       "      <th>3</th>\n",
       "      <td>Random Forest</td>\n",
       "      <td>0.891386</td>\n",
       "    </tr>\n",
       "    <tr>\n",
       "      <th>4</th>\n",
       "      <td>Boosted Trees</td>\n",
       "      <td>0.889706</td>\n",
       "    </tr>\n",
       "    <tr>\n",
       "      <th>2</th>\n",
       "      <td>Bagged Trees</td>\n",
       "      <td>0.885609</td>\n",
       "    </tr>\n",
       "    <tr>\n",
       "      <th>1</th>\n",
       "      <td>Decision Tree</td>\n",
       "      <td>0.878229</td>\n",
       "    </tr>\n",
       "  </tbody>\n",
       "</table>\n",
       "</div>"
      ],
      "text/plain": [
       "  Classification model  F1 Scores\n",
       "0  Logistic Regression   0.893773\n",
       "3        Random Forest   0.891386\n",
       "4        Boosted Trees   0.889706\n",
       "2         Bagged Trees   0.885609\n",
       "1        Decision Tree   0.878229"
      ]
     },
     "execution_count": 11,
     "metadata": {},
     "output_type": "execute_result"
    }
   ],
   "source": [
    "# Perform evaluation on holdout set\n",
    "LR_f1=f1_score(y_holdout,LR.predict(X_holdout))\n",
    "DT_f1=f1_score(y_holdout,DT.predict(X_holdout))\n",
    "BaT_f1=f1_score(y_holdout,BaT.predict(X_holdout))\n",
    "RF_f1=f1_score(y_holdout,RF.predict(X_holdout))\n",
    "BoT_f1=f1_score(y_holdout,BoT.predict(X_holdout))\n",
    "data_F1=[['Logistic Regression',LR_f1],['Decision Tree',DT_f1],['Bagged Trees',BaT_f1],['Random Forest',RF_f1],['Boosted Trees',BoT_f1]]\n",
    "F1_scores=pd.DataFrame(data_F1,columns=[\"Classification model\",\"F1 Scores\"])\n",
    "F1_scores.sort_values(by='F1 Scores',ascending= False)"
   ]
  },
  {
   "cell_type": "markdown",
   "metadata": {},
   "source": [
    "Logistic regression has the best performance, followed by random forest then boosted trees then bagged trees. As expected, a single decision tree doesn't perform too well."
   ]
  },
  {
   "cell_type": "markdown",
   "metadata": {},
   "source": [
    "# ROC curve"
   ]
  },
  {
   "cell_type": "code",
   "execution_count": 12,
   "metadata": {},
   "outputs": [],
   "source": [
    "# ROC Curves\n",
    "LR_yprob=LR.predict_proba(X_holdout)[:,1]\n",
    "LR_roc=roc_curve(y_holdout,LR_yprob)\n",
    "DT_yprob=DT.predict_proba(X_holdout)[:,1]\n",
    "DT_roc=roc_curve(y_holdout,DT_yprob)\n",
    "BaT_yprob=BaT.predict_proba(X_holdout)[:,1]\n",
    "BaT_roc=roc_curve(y_holdout,BaT_yprob)\n",
    "RF_yprob=RF.predict_proba(X_holdout)[:,1]\n",
    "RF_roc=roc_curve(y_holdout,RF_yprob)\n",
    "BoT_yprob=BoT.predict_proba(X_holdout)[:,1]\n",
    "BoT_roc=roc_curve(y_holdout,BoT_yprob)"
   ]
  },
  {
   "cell_type": "code",
   "execution_count": 13,
   "metadata": {},
   "outputs": [
    {
     "data": {
      "image/png": "[encoded data removed]",
      "text/plain": [
       "<Figure size 576x432 with 1 Axes>"
      ]
     },
     "metadata": {
      "needs_background": "light"
     },
     "output_type": "display_data"
    }
   ],
   "source": [
    "plt.figure(figsize=(8,6))\n",
    "plt.plot(LR_roc[0],LR_roc[1],label=\"Logistic Regression\")\n",
    "plt.plot(DT_roc[0],DT_roc[1],label=\"Decision Tree\")\n",
    "plt.plot(BaT_roc[0],BaT_roc[1],label=\"Bagged Trees\")\n",
    "plt.plot(RF_roc[0],RF_roc[1],label=\"Random Forest\")\n",
    "plt.plot(BoT_roc[0],BoT_roc[1],label=\"Boosted Trees\")\n",
    "plt.xlabel('False Positive Rate')\n",
    "plt.ylabel('True Positive Rate')\n",
    "plt.legend()\n",
    "plt.title('ROC Curve')\n",
    "plt.show()"
   ]
  },
  {
   "cell_type": "markdown",
   "metadata": {},
   "source": [
    " Boosted trees performed the best and decision tree performed the worst"
   ]
  },
  {
   "cell_type": "markdown",
   "metadata": {},
   "source": [
    "Calculating the AUC score of these 5 classifiers."
   ]
  },
  {
   "cell_type": "code",
   "execution_count": 14,
   "metadata": {},
   "outputs": [],
   "source": [
    "# AUC values\n",
    "LR_auc=roc_auc_score(y_holdout, LR_yprob)\n",
    "DT_auc=roc_auc_score(y_holdout, DT_yprob)\n",
    "BaT_auc=roc_auc_score(y_holdout, BaT_yprob)\n",
    "RF_auc=roc_auc_score(y_holdout, RF_yprob)\n",
    "BoT_auc=roc_auc_score(y_holdout,BoT_yprob)"
   ]
  },
  {
   "cell_type": "code",
   "execution_count": 15,
   "metadata": {},
   "outputs": [
    {
     "data": {
      "text/html": [
       "<div>\n",
       "<style scoped>\n",
       "    .dataframe tbody tr th:only-of-type {\n",
       "        vertical-align: middle;\n",
       "    }\n",
       "\n",
       "    .dataframe tbody tr th {\n",
       "        vertical-align: top;\n",
       "    }\n",
       "\n",
       "    .dataframe thead th {\n",
       "        text-align: right;\n",
       "    }\n",
       "</style>\n",
       "<table border=\"1\" class=\"dataframe\">\n",
       "  <thead>\n",
       "    <tr style=\"text-align: right;\">\n",
       "      <th></th>\n",
       "      <th>Classification model</th>\n",
       "      <th>AUC Scores</th>\n",
       "    </tr>\n",
       "  </thead>\n",
       "  <tbody>\n",
       "    <tr>\n",
       "      <th>4</th>\n",
       "      <td>Boosted Trees</td>\n",
       "      <td>0.973840</td>\n",
       "    </tr>\n",
       "    <tr>\n",
       "      <th>0</th>\n",
       "      <td>Logistic Regression</td>\n",
       "      <td>0.972617</td>\n",
       "    </tr>\n",
       "    <tr>\n",
       "      <th>2</th>\n",
       "      <td>Bagged Trees</td>\n",
       "      <td>0.967590</td>\n",
       "    </tr>\n",
       "    <tr>\n",
       "      <th>3</th>\n",
       "      <td>Random Forest</td>\n",
       "      <td>0.964048</td>\n",
       "    </tr>\n",
       "    <tr>\n",
       "      <th>1</th>\n",
       "      <td>Decision Tree</td>\n",
       "      <td>0.927321</td>\n",
       "    </tr>\n",
       "  </tbody>\n",
       "</table>\n",
       "</div>"
      ],
      "text/plain": [
       "  Classification model  AUC Scores\n",
       "4        Boosted Trees    0.973840\n",
       "0  Logistic Regression    0.972617\n",
       "2         Bagged Trees    0.967590\n",
       "3        Random Forest    0.964048\n",
       "1        Decision Tree    0.927321"
      ]
     },
     "execution_count": 15,
     "metadata": {},
     "output_type": "execute_result"
    }
   ],
   "source": [
    "data_AUC=[['Logistic Regression',LR_auc],['Decision Tree',DT_auc],['Bagged Trees',BaT_auc],['Random Forest',RF_auc],['Boosted Trees',BoT_auc]]\n",
    "AUC_scores=pd.DataFrame(data_AUC,columns=[\"Classification model\",\"AUC Scores\"])\n",
    "AUC_scores.sort_values(by='AUC Scores',ascending= False)"
   ]
  },
  {
   "cell_type": "markdown",
   "metadata": {},
   "source": [
    "Boosted tree has the highest AUC score, followed by Logistic and decision tree is the worst."
   ]
  },
  {
   "cell_type": "markdown",
   "metadata": {},
   "source": [
    "Lastly, with the best classifier (based on the observations from above), present the confusion matrix on the holdout set.\n",
    "\n",
    "Logistic and boosted seems be performing well. We will consider logistic regression to be best classifier and present the confusion matrix on the holdout set."
   ]
  },
  {
   "cell_type": "code",
   "execution_count": 16,
   "metadata": {},
   "outputs": [
    {
     "name": "stdout",
     "output_type": "stream",
     "text": [
      "Confusion matrix on the test set \n"
     ]
    },
    {
     "data": {
      "text/html": [
       "<div>\n",
       "<style scoped>\n",
       "    .dataframe tbody tr th:only-of-type {\n",
       "        vertical-align: middle;\n",
       "    }\n",
       "\n",
       "    .dataframe tbody tr th {\n",
       "        vertical-align: top;\n",
       "    }\n",
       "\n",
       "    .dataframe thead th {\n",
       "        text-align: right;\n",
       "    }\n",
       "</style>\n",
       "<table border=\"1\" class=\"dataframe\">\n",
       "  <thead>\n",
       "    <tr style=\"text-align: right;\">\n",
       "      <th></th>\n",
       "      <th>0</th>\n",
       "      <th>1</th>\n",
       "    </tr>\n",
       "  </thead>\n",
       "  <tbody>\n",
       "    <tr>\n",
       "      <th>0</th>\n",
       "      <td>747</td>\n",
       "      <td>4</td>\n",
       "    </tr>\n",
       "    <tr>\n",
       "      <th>1</th>\n",
       "      <td>25</td>\n",
       "      <td>122</td>\n",
       "    </tr>\n",
       "  </tbody>\n",
       "</table>\n",
       "</div>"
      ],
      "text/plain": [
       "     0    1\n",
       "0  747    4\n",
       "1   25  122"
      ]
     },
     "execution_count": 16,
     "metadata": {},
     "output_type": "execute_result"
    }
   ],
   "source": [
    "# Confusion matrix\n",
    "LR_yhat=np.where(LR_yprob > 0.5,1,0)\n",
    "LR_confmat=pd.DataFrame(confusion_matrix(y_holdout,LR_yhat))\n",
    "print(\"Confusion matrix on the test set \")\n",
    "LR_confmat"
   ]
  },
  {
   "cell_type": "code",
   "execution_count": null,
   "metadata": {},
   "outputs": [],
   "source": []
  }
 ],
 "metadata": {
  "kernelspec": {
   "display_name": "Python 3",
   "language": "python",
   "name": "python3"
  },
  "language_info": {
   "codemirror_mode": {
    "name": "ipython",
    "version": 3
   },
   "file_extension": ".py",
   "mimetype": "text/x-python",
   "name": "python",
   "nbconvert_exporter": "python",
   "pygments_lexer": "ipython3",
   "version": "3.7.4"
  }
 },
 "nbformat": 4,
 "nbformat_minor": 2
}
